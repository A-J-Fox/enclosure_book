{
 "cells": [
  {
   "cell_type": "markdown",
   "metadata": {
    "slideshow": {
     "slide_type": "slide"
    }
   },
   "source": [
    "# A Model of Enclosures\n",
    "## Coordination, Efficiency, and Conflict\n",
    "\n",
    "\n",
    "Matthew J. Baker\n",
    "\n",
    "Jonathan Conning\n",
    " "
   ]
  },
  {
   "cell_type": "code",
   "execution_count": 1,
   "metadata": {
    "slideshow": {
     "slide_type": "skip"
    }
   },
   "outputs": [],
   "source": [
    "%load_ext autoreload\n",
    "%autoreload 2"
   ]
  },
  {
   "cell_type": "code",
   "execution_count": 2,
   "metadata": {
    "slideshow": {
     "slide_type": "skip"
    }
   },
   "outputs": [],
   "source": [
    "from enclose import *\n",
    "from ipywidgets import interact, interact_manual, fixed\n",
    "\n",
    "#from sympy import *\n",
    "#init_printing()"
   ]
  },
  {
   "cell_type": "markdown",
   "metadata": {
    "slideshow": {
     "slide_type": "slide"
    }
   },
   "source": [
    "### Notation\n",
    "- $\\bar L$ labor supply\n",
    "- $\\bar T$ land supply\n",
    "- $T_e$ total enclosed land.  \n",
    "- $t_e=\\frac{T_e}{\\bar T}$ share of land enclosed "
   ]
  },
  {
   "cell_type": "markdown",
   "metadata": {
    "slideshow": {
     "slide_type": "slide"
    }
   },
   "source": [
    "### Production\n",
    "\n",
    "#### On unenclosed land\n",
    "$$F(T,L) = T^{1-\\alpha}L^\\alpha$$\n",
    "\n",
    "#### On enclosed land\n",
    "$$G(T,L) = \\theta \\cdot F(T,L)$$"
   ]
  },
  {
   "cell_type": "markdown",
   "metadata": {
    "slideshow": {
     "slide_type": "fragment"
    }
   },
   "source": [
    "- If $\\theta>1$ then enclosure facilitates the adoption of higher productivity technologies."
   ]
  },
  {
   "cell_type": "markdown",
   "metadata": {
    "slideshow": {
     "slide_type": "fragment"
    }
   },
   "source": [
    "- $c$ unit cost of enclosing land. Cost of enclosing $T_e$ units of land is $c\\cdot T_e$"
   ]
  },
  {
   "cell_type": "markdown",
   "metadata": {
    "slideshow": {
     "slide_type": "fragment"
    }
   },
   "source": [
    "**Manufacturing sector**\n",
    "  - CRS production $H(\\bar K, L_M)=\\bar K^\\beta L_M^{1-\\beta}$\n",
    "  - Normalize $P_M = 1$ and define $p=\\frac{P_A}{P_M}$ as relative price of agricultural goods.\n",
    "  - Firms max profits, labor demand given by:   $w_F = MPL_M(\\bar K, L_M)$\n"
   ]
  },
  {
   "cell_type": "markdown",
   "metadata": {
    "slideshow": {
     "slide_type": "fragment"
    }
   },
   "source": [
    "- Downward sloping demand for manufacturing labor $L_M^D(w)$"
   ]
  },
  {
   "cell_type": "markdown",
   "metadata": {
    "slideshow": {
     "slide_type": "fragment"
    }
   },
   "source": [
    "- Upward sloping supply of labor to agriculture: $L_A^S(w) = \\bar L - L_M^D(w)$"
   ]
  },
  {
   "cell_type": "markdown",
   "metadata": {
    "slideshow": {
     "slide_type": "slide"
    }
   },
   "source": [
    "### Communal land use-rights interpretation\n",
    "\n",
    "- For linear homogenous production function $F(T_i, L_i)$, by Euler's Theorem:\n",
    "\n",
    "$$F(T,L) =  F_L \\cdot L + F_T \\cdot T$$"
   ]
  },
  {
   "cell_type": "markdown",
   "metadata": {
    "slideshow": {
     "slide_type": "fragment"
    }
   },
   "source": [
    "- divide by $L$:"
   ]
  },
  {
   "cell_type": "markdown",
   "metadata": {
    "slideshow": {
     "slide_type": "fragment"
    }
   },
   "source": [
    "$$\\frac{F(T,L)}{L} = F_L +  F_T \\cdot \\frac{T}{L}$$"
   ]
  },
  {
   "cell_type": "markdown",
   "metadata": {
    "slideshow": {
     "slide_type": "slide"
    }
   },
   "source": [
    "- Assume competitive markets in the unenclosed peasant subeconomy:\n",
    "   - $w_c = p \\cdot F_L$\n",
    "   - $r_c = p \\cdot F_t$"
   ]
  },
  {
   "cell_type": "markdown",
   "metadata": {
    "slideshow": {
     "slide_type": "fragment"
    }
   },
   "source": [
    "So we can write the value average product as:\n",
    "\n",
    "$$ p\\cdot APL = r_c \\cdot \\frac{T}{L} + w_c $$"
   ]
  },
  {
   "cell_type": "markdown",
   "metadata": {
    "slideshow": {
     "slide_type": "slide"
    }
   },
   "source": [
    "### The Enclosure decision\n",
    "\n",
    "- Every piece of land has a potential 'owner-claimant.'\n",
    "  - If they pay enclosure cost $c$ they can exclude all workers from the site.\n",
    "  - Then hire workers to maximize profits:  $\\theta \\cdot F_L(T_i, L_i) = w_F$\n",
    "  - Profits equivalent to rent on now enclosed land.\n",
    "     - profitable to enclose if $r(t_e) > c$\n"
   ]
  },
  {
   "cell_type": "markdown",
   "metadata": {
    "slideshow": {
     "slide_type": "subslide"
    }
   },
   "source": [
    "- Since encloser faces wage $w_F= p\\cdot APL > p\\cdot MPL$ \n",
    "   - hires fewer workers than were used under free access \n",
    "   - spillover: those released workers go 'crowd' remaining open access areas\n",
    "- Spillovers, strategic complementarities, multiple Nash equilibria:\n",
    "   - Nobody encloses (and not profitable to deviate)\n",
    "   - Everybody encloses (and not profitable to deviate)"
   ]
  },
  {
   "cell_type": "markdown",
   "metadata": {
    "slideshow": {
     "slide_type": "slide"
    }
   },
   "source": [
    "## The model\n",
    "\n",
    "- Assume at first a purely agricultural economy\n",
    "\n",
    "- $T_e, L_e$  -- Amount of land enclosed, Ag. labor working on enclosed land.\n",
    "\n",
    "- $t_e = \\frac{T_e}{\\bar T}$  -- fraction of land enclosed"
   ]
  },
  {
   "cell_type": "markdown",
   "metadata": {
    "slideshow": {
     "slide_type": "subslide"
    }
   },
   "source": [
    "### A useful decomposition\n",
    "$$\n",
    "\\begin{align*}\n",
    "    G(T_{e},L_{e}) &=t_e^{1-\\alpha} \\bar l_e ^{\\alpha} \\cdot \\theta \\bar T^{1-\\alpha} \\bar L ^{\\alpha}\\\\\n",
    "&=t_e^{1-\\alpha} \\bar l_e ^{\\alpha} \\cdot \\theta F(\\bar T, \\bar L) \\\\\n",
    "&=F(t_e,l_e)\\cdot \\theta F(\\bar T, \\bar L)\n",
    "\\end{align*}\n",
    "$$"
   ]
  },
  {
   "cell_type": "markdown",
   "metadata": {
    "slideshow": {
     "slide_type": "fragment"
    }
   },
   "source": [
    "$F(t_e, l_e)$ tell us fraction of *potential* output for given land/labor enclosure $(t_e, l_e$)"
   ]
  },
  {
   "cell_type": "markdown",
   "metadata": {
    "slideshow": {
     "slide_type": "subslide"
    }
   },
   "source": [
    "## Optimal Enclosures  -- The Planner's problem\n",
    "\n",
    "- Enclosure is costly so only worthwhile if leads to higher output/productivity.\n",
    "\n",
    "$$\n",
    "\\max_{t_e,l_e} \\left[\\theta \\cdot F(t_e,l_e)+F(1-t_e,1-l_e) \\right ] \\cdot F(\\bar T, \\bar L) -cTt_e\n",
    "$$"
   ]
  },
  {
   "cell_type": "markdown",
   "metadata": {
    "slideshow": {
     "slide_type": "fragment"
    }
   },
   "source": [
    "**FOC:**\n",
    "$$MPL_e = MPLc$$"
   ]
  },
  {
   "cell_type": "markdown",
   "metadata": {
    "slideshow": {
     "slide_type": "subslide"
    }
   },
   "source": [
    "**FOC:**\n",
    "\n",
    "$$\\theta \\left ( \\frac{t_e}{l_e} \\right ) ^{1-\\alpha} =  \\left ( \\frac{1-t_e}{1-l_e} \\right ) ^{1-\\alpha}$$\n"
   ]
  },
  {
   "cell_type": "markdown",
   "metadata": {
    "slideshow": {
     "slide_type": "fragment"
    }
   },
   "source": [
    "For any level of $t_e$ solve for optimal labor: \n",
    "\n",
    "$$l_e^o(t_e) = \\frac{\\Lambda^ot_e}{1+(\\Lambda^o-1)t_e}, \\text{  where }\\Lambda^o=\\theta^{\\frac{1}{1-\\alpha}}$$"
   ]
  },
  {
   "cell_type": "markdown",
   "metadata": {
    "slideshow": {
     "slide_type": "subslide"
    }
   },
   "source": [
    "- Note $\\Lambda^o=\\theta^{\\frac{1}{1-\\alpha}}>1$ as $\\theta>1$\n",
    "- If $\\theta = 1$ only way to equalize marginal products is via $t_e=l_e$\n",
    "- when $\\theta > 1$ then $l_e^o(t_e)$ is concave down\n"
   ]
  },
  {
   "cell_type": "markdown",
   "metadata": {
    "slideshow": {
     "slide_type": "fragment"
    }
   },
   "source": [
    "- Note that when $\\theta>1$, $l_e \\ge t_e$\n",
    "  - it is efficient to **operate enclosed lands in more labor-intensive ways**"
   ]
  },
  {
   "cell_type": "markdown",
   "metadata": {
    "slideshow": {
     "slide_type": "fragment"
    }
   },
   "source": [
    "- Will soon show that (for $1<\\theta<\\frac{1}{\\alpha}$) private enclosers have incentive to operate enclosed lands in *less* labor intensive ways than unenclosed lands!"
   ]
  },
  {
   "cell_type": "code",
   "execution_count": 3,
   "metadata": {},
   "outputs": [
    {
     "data": {
      "image/png": "[encoded data removed]",
      "text/plain": [
       "<Figure size 504x504 with 1 Axes>"
      ]
     },
     "metadata": {
      "needs_background": "light"
     },
     "output_type": "display_data"
    }
   ],
   "source": [
    "plotle(te = 0.48, th = 1.5, alp = 0.5)"
   ]
  },
  {
   "cell_type": "code",
   "execution_count": 7,
   "metadata": {
    "slideshow": {
     "slide_type": "slide"
    }
   },
   "outputs": [
    {
     "data": {
      "application/vnd.jupyter.widget-view+json": {
       "model_id": "68dd38db309f48359ce26309e15a670f",
       "version_major": 2,
       "version_minor": 0
      },
      "text/plain": [
       "interactive(children=(FloatSlider(value=0.5, description='te', max=1.0, step=0.05), FloatSlider(value=1.0, des…"
      ]
     },
     "metadata": {},
     "output_type": "display_data"
    }
   ],
   "source": [
    "z = interact(plotle, te=(0,1,0.05), th=(0.5, 3, 0.1), alp =(0.2, 0.8, 0.05));"
   ]
  },
  {
   "cell_type": "markdown",
   "metadata": {
    "slideshow": {
     "slide_type": "subslide"
    }
   },
   "source": [
    "### Optimal enclosure rate $t_e$\n",
    "\n",
    "Output net of enclosure costs per unit land:\n",
    "\n",
    "$$ z(t_e)= \\bar l^{\\alpha} \\cdot \\left[ 1+\\left(\\Lambda^o-1\\right)t_e\\right]^{1-\\alpha}-c  t_e$$\n",
    "    "
   ]
  },
  {
   "cell_type": "markdown",
   "metadata": {
    "slideshow": {
     "slide_type": "fragment"
    }
   },
   "source": [
    "$$z'(t_e)=(1-\\alpha)\\left(\\Lambda^o-1\\right) \\bar l ^{\\alpha}\\left[ \\left(\\Lambda^o-1\\right)t_e+1\\right]^{-\\alpha}-c$$\n",
    "\n",
    "If  $\\Lambda^o=\\theta^{\\frac{1}{1-\\alpha}} \\geq 1$, $z(t_e)$ is concave down in $t_e$."
   ]
  },
  {
   "cell_type": "markdown",
   "metadata": {
    "slideshow": {
     "slide_type": "fragment"
    }
   },
   "source": [
    "**Three cases:**"
   ]
  },
  {
   "cell_type": "markdown",
   "metadata": {
    "slideshow": {
     "slide_type": "subslide"
    }
   },
   "source": [
    "### (1) Enclose None  ($z'(0)<0$)\n"
   ]
  },
  {
   "cell_type": "code",
   "execution_count": 5,
   "metadata": {
    "slideshow": {
     "slide_type": "fragment"
    }
   },
   "outputs": [
    {
     "data": {
      "image/png": "[encoded data removed]",
      "text/plain": [
       "<Figure size 432x288 with 1 Axes>"
      ]
     },
     "metadata": {
      "needs_background": "light"
     },
     "output_type": "display_data"
    }
   ],
   "source": [
    "plotz(th = 1.6, alp=1/2, c=1, lbar=1)"
   ]
  },
  {
   "cell_type": "code",
   "execution_count": 6,
   "metadata": {},
   "outputs": [
    {
     "data": {
      "application/vnd.jupyter.widget-view+json": {
       "model_id": "5d5efa3719144fed960287949c0de1ec",
       "version_major": 2,
       "version_minor": 0
      },
      "text/plain": [
       "interactive(children=(FloatSlider(value=1.2000000000000002, description='th', max=2.0, min=0.5), FloatSlider(v…"
      ]
     },
     "metadata": {},
     "output_type": "display_data"
    }
   ],
   "source": [
    "interact(plotz, th=(0.5,2,0.1), alp=(0.2,0.8,0.1), c=(0,3,0.1), lbar = (1,3,0.1));"
   ]
  },
  {
   "cell_type": "markdown",
   "metadata": {
    "slideshow": {
     "slide_type": "subslide"
    }
   },
   "source": [
    "### (2) Enclose all ($z'(1)>0$)"
   ]
  },
  {
   "cell_type": "code",
   "execution_count": null,
   "metadata": {
    "slideshow": {
     "slide_type": "fragment"
    }
   },
   "outputs": [],
   "source": [
    "plotz(th = 1.8, alp=1/2, c=1, lbar=4)"
   ]
  },
  {
   "cell_type": "markdown",
   "metadata": {
    "slideshow": {
     "slide_type": "subslide"
    }
   },
   "source": [
    "**(1) Efficent No Enclosure:**  if $z'(0)<0$ then  $z(t_e)$ curve is everywhere downward sloping.  \n",
    "$$\\bar l \\le \\left[\\frac{c}{(1-\\alpha)\\left(\\Lambda^o-1\\right)}\\right]^{\\frac{1}{\\alpha}}=l_0^o(c,\\theta)$$\n",
    "\n",
    "**(1) Efficent No Enclosure:**  if $z'(0)<0$ then  $z(t_e)$ curve is everywhere downward sloping.  "
   ]
  },
  {
   "cell_type": "markdown",
   "metadata": {
    "slideshow": {
     "slide_type": "subslide"
    }
   },
   "source": [
    "### Partial enclosure $z'(0)>0$ and $z'(1)<0$ "
   ]
  },
  {
   "cell_type": "code",
   "execution_count": 55,
   "metadata": {
    "slideshow": {
     "slide_type": "fragment"
    }
   },
   "outputs": [
    {
     "data": {
      "image/png": "[encoded data removed]",
      "text/plain": [
       "<Figure size 432x288 with 1 Axes>"
      ]
     },
     "metadata": {
      "needs_background": "light"
     },
     "output_type": "display_data"
    }
   ],
   "source": [
    "plotz(th = 1.7, alp=1/2, c=1, lbar=2)"
   ]
  },
  {
   "cell_type": "code",
   "execution_count": 57,
   "metadata": {},
   "outputs": [
    {
     "data": {
      "image/png": "[encoded data removed]",
      "text/plain": [
       "<Figure size 720x432 with 1 Axes>"
      ]
     },
     "metadata": {
      "needs_background": "light"
     },
     "output_type": "display_data"
    }
   ],
   "source": [
    "plotmpts()"
   ]
  },
  {
   "cell_type": "markdown",
   "metadata": {
    "slideshow": {
     "slide_type": "slide"
    }
   },
   "source": [
    "## Optimal Enclosure in $\\theta - \\bar l$ parameter space \n",
    "- $\\theta$ expected productivity gain\n",
    "- $\\bar l = \\frac{\\bar L}{\\bar T}$ population density\n",
    "\n",
    "**(1) Boundary of No Enclosure Optimum:**  $\\bar l \\le \\left[\\frac{c}{(1-\\alpha)\\left(\\Lambda^o-1\\right)}\\right]^{\\frac{1}{\\alpha}}=l_0^o(c,\\theta)$\n"
   ]
  },
  {
   "cell_type": "markdown",
   "metadata": {
    "slideshow": {
     "slide_type": "fragment"
    }
   },
   "source": [
    "**(2) Boundary of Full Enclosure Optimum:** $\\bar l \\le \\left[\\frac{c}{(1-\\alpha)\\left(\\Lambda^o-1\\right)}\\right]^{\\frac{1}{\\alpha}}=l_0^o(c,\\theta)$"
   ]
  },
  {
   "cell_type": "markdown",
   "metadata": {
    "slideshow": {
     "slide_type": "fragment"
    }
   },
   "source": [
    "**(1) Partial Enclosure Region:**  in between."
   ]
  },
  {
   "cell_type": "markdown",
   "metadata": {
    "slideshow": {
     "slide_type": "slide"
    }
   },
   "source": [
    "![](Figures/social_optimum.png)"
   ]
  },
  {
   "cell_type": "markdown",
   "metadata": {
    "slideshow": {
     "slide_type": "slide"
    }
   },
   "source": [
    "## Private decisions to enclose in a decentralized economy\n",
    "\n",
    "- Owner-claimants independently and simultaneously decide whether to enclose each unit of land.\n",
    "- Displaced labor moves to remaining unenclosed lands (or manufacturing) until\n",
    "\n",
    "$$p \\cdot MPL_e  = w = p \\cdot APL_C$$"
   ]
  },
  {
   "cell_type": "markdown",
   "metadata": {
    "slideshow": {
     "slide_type": "fragment"
    }
   },
   "source": [
    "$$\\alpha\\theta\\left(\\frac{t_e}{l_e}\\right)^{1-\\alpha}\n",
    "=\\left(\\frac{1-t_e}{1-l_e}\\right)^{1-\\alpha}\n",
    "$$"
   ]
  },
  {
   "cell_type": "markdown",
   "metadata": {
    "slideshow": {
     "slide_type": "fragment"
    }
   },
   "source": [
    "Solve for private economy $l_e^*(t_e)$:"
   ]
  },
  {
   "cell_type": "markdown",
   "metadata": {
    "slideshow": {
     "slide_type": "subslide"
    }
   },
   "source": [
    "$$l_e^*(t_e) = \\frac{\\Lambda t_e}{1+\\Lambda t_e - t_e}$$\n",
    "\n",
    "where  \n",
    "\n",
    "\n",
    "$$\\Lambda=(\\alpha\\theta)^\\frac{1}{1-\\alpha}$$\n"
   ]
  },
  {
   "cell_type": "markdown",
   "metadata": {
    "slideshow": {
     "slide_type": "fragment"
    }
   },
   "source": [
    "compare to social $\\Lambda^o = \\theta^\\frac{1}{1-\\alpha}$"
   ]
  },
  {
   "cell_type": "markdown",
   "metadata": {
    "slideshow": {
     "slide_type": "fragment"
    }
   },
   "source": [
    "$l_e^*(t_e)$ is concave or convex depending on $\\Lambda \\lessgtr 1$ or $\\theta\\lessgtr \\frac{1}{\\alpha}$"
   ]
  },
  {
   "cell_type": "markdown",
   "metadata": {
    "slideshow": {
     "slide_type": "subslide"
    }
   },
   "source": [
    "## Private claimant encloses if \n",
    "\n",
    "$$r(t_e)=\\frac{1-\\alpha}{\\alpha}\\Lambda \\cdot \\bar l^{\\alpha}\n",
    "\\cdot(1+(\\Lambda -1)t_e)^{-\\alpha} \\ge c\n",
    "$$"
   ]
  },
  {
   "cell_type": "markdown",
   "metadata": {
    "slideshow": {
     "slide_type": "fragment"
    }
   },
   "source": [
    "- $r(t_e)$ slopes up so long as $\\theta < \\frac{1}{\\alpha}$"
   ]
  },
  {
   "cell_type": "markdown",
   "metadata": {
    "slideshow": {
     "slide_type": "fragment"
    }
   },
   "source": [
    "  - spillover across enclosers:  as each 'owner' encloses pushes labor off land, lowering wage, raising return to enclosure by others."
   ]
  },
  {
   "cell_type": "markdown",
   "metadata": {
    "slideshow": {
     "slide_type": "subslide"
    }
   },
   "source": [
    "Three parameter zones when $\\theta < \\frac{1}{\\alpha}$\n",
    "\n",
    "1. No private enclosure\n",
    "2. Full private enclosure\n",
    "3. Multiple Equilibria (All enclose, None enclose)"
   ]
  },
  {
   "cell_type": "markdown",
   "metadata": {
    "slideshow": {
     "slide_type": "subslide"
    }
   },
   "source": [
    "#### 1. No private  enclosure $r(1)<c$\n",
    "(low population density$\\bar l$, low expected productivity gain $\\theta$, and/or high enclosure costs $c$)"
   ]
  },
  {
   "cell_type": "code",
   "execution_count": 8,
   "metadata": {
    "slideshow": {
     "slide_type": "fragment"
    }
   },
   "outputs": [
    {
     "data": {
      "image/png": "[encoded data removed]",
      "text/plain": [
       "<Figure size 360x360 with 1 Axes>"
      ]
     },
     "metadata": {
      "needs_background": "light"
     },
     "output_type": "display_data"
    }
   ],
   "source": [
    "plotreq(th=1, alp=1/2, tlbar=1, c=0.7, wplot=True)"
   ]
  },
  {
   "cell_type": "markdown",
   "metadata": {
    "slideshow": {
     "slide_type": "subslide"
    }
   },
   "source": [
    "#### 2.Full enclosure $r(0)>c$\n",
    "(high population density $\\bar l$ , high expected productivity gain $\\theta$ , and/or low enclosure costs $c$)"
   ]
  },
  {
   "cell_type": "code",
   "execution_count": 9,
   "metadata": {
    "slideshow": {
     "slide_type": "fragment"
    }
   },
   "outputs": [
    {
     "data": {
      "image/png": "[encoded data removed]",
      "text/plain": [
       "<Figure size 360x360 with 1 Axes>"
      ]
     },
     "metadata": {
      "needs_background": "light"
     },
     "output_type": "display_data"
    }
   ],
   "source": [
    "plotreq(th=1.25, alp=1/2, tlbar=1, c=0.3, wplot=False)"
   ]
  },
  {
   "cell_type": "markdown",
   "metadata": {
    "slideshow": {
     "slide_type": "subslide"
    }
   },
   "source": [
    "#### 3. Multiple Equilibria\n",
    "\n",
    "Two Pareto-Ranked Nash Equilibria:\n",
    "\n",
    "- Nobody encloses\n",
    "- Everybody encloses"
   ]
  },
  {
   "cell_type": "code",
   "execution_count": 10,
   "metadata": {
    "slideshow": {
     "slide_type": "fragment"
    }
   },
   "outputs": [
    {
     "data": {
      "image/png": "[encoded data removed]",
      "text/plain": [
       "<Figure size 360x360 with 1 Axes>"
      ]
     },
     "metadata": {
      "needs_background": "light"
     },
     "output_type": "display_data"
    }
   ],
   "source": [
    "plotreq(th=1.3, alp=1/2, tlbar=1, c=0.5, wplot=False)"
   ]
  },
  {
   "cell_type": "code",
   "execution_count": 11,
   "metadata": {
    "slideshow": {
     "slide_type": "subslide"
    }
   },
   "outputs": [
    {
     "data": {
      "application/vnd.jupyter.widget-view+json": {
       "model_id": "7ad106f6a1a44029b29ce7170c76b334",
       "version_major": 2,
       "version_minor": 0
      },
      "text/plain": [
       "interactive(children=(FloatSlider(value=1.0, description='th', max=1.5, min=1.0, step=0.05), FloatSlider(value…"
      ]
     },
     "metadata": {},
     "output_type": "display_data"
    }
   ],
   "source": [
    "interact(plotreq,th=(1,1.5,0.05), alp=(0.2,0.8,0.1), tlbar=(0.5,2,0.1), c=(0,1,0.05), wplot=[True, False]);"
   ]
  },
  {
   "cell_type": "markdown",
   "metadata": {
    "slideshow": {
     "slide_type": "slide"
    }
   },
   "source": [
    "## Private Enclosure as a Global Game\n"
   ]
  },
  {
   "cell_type": "markdown",
   "metadata": {
    "slideshow": {
     "slide_type": "slide"
    }
   },
   "source": [
    "Enclosure Zones in the private Economy"
   ]
  },
  {
   "cell_type": "markdown",
   "metadata": {
    "slideshow": {
     "slide_type": "fragment"
    }
   },
   "source": [
    "![](Figures/nash_eq.png)"
   ]
  },
  {
   "cell_type": "markdown",
   "metadata": {
    "slideshow": {
     "slide_type": "subslide"
    }
   },
   "source": [
    "### The Social Efficiency of Private Decisions to Enclose\n",
    "\n",
    "\n",
    "- Private enclosers compare only rental income (not total income) to the cost of enclosure. \n",
    "   - Furthermore part of gain in rental income is, in effect, 'theft'(redistribution) of land rights.\n",
    "\n",
    "- Three possibilities:"
   ]
  },
  {
   "cell_type": "markdown",
   "metadata": {
    "slideshow": {
     "slide_type": "fragment"
    }
   },
   "source": [
    "**1. Inefficiently High Enclosure**\n",
    "  - Situations where enclose more land than is efficient\n",
    "  - Strikingly, may enclose even when $\\theta < 1$     "
   ]
  },
  {
   "cell_type": "markdown",
   "metadata": {
    "slideshow": {
     "slide_type": "fragment"
    }
   },
   "source": [
    "**2. Inefficiently Low Enclosure**\n",
    "\n",
    "   - Situations where socially optimal to enclose but no enclosure, or not enough enclosure"
   ]
  },
  {
   "cell_type": "markdown",
   "metadata": {
    "slideshow": {
     "slide_type": "fragment"
    }
   },
   "source": [
    "**3. Efficient Enclosure**"
   ]
  },
  {
   "cell_type": "markdown",
   "metadata": {
    "slideshow": {
     "slide_type": "fragment"
    }
   },
   "source": [
    "![](Figures/nash_so_comp.png)"
   ]
  },
  {
   "cell_type": "markdown",
   "metadata": {
    "slideshow": {
     "slide_type": "subslide"
    }
   },
   "source": [
    "### Enclosure by a monopoly claimant"
   ]
  },
  {
   "cell_type": "markdown",
   "metadata": {
    "slideshow": {
     "slide_type": "slide"
    }
   },
   "source": [
    "#### Adding a manufacturing sector"
   ]
  },
  {
   "cell_type": "markdown",
   "metadata": {
    "slideshow": {
     "slide_type": "fragment"
    }
   },
   "source": [
    "$$L_e + L_u = 1 - L_m$$"
   ]
  },
  {
   "cell_type": "markdown",
   "metadata": {
    "slideshow": {
     "slide_type": "fragment"
    }
   },
   "source": [
    "$$l_e + l_u = 1 - l_m$$"
   ]
  },
  {
   "cell_type": "markdown",
   "metadata": {
    "slideshow": {
     "slide_type": "fragment"
    }
   },
   "source": [
    "$$\n",
    "\\begin{aligned}\n",
    " G(\\bar K, L_m)  &= {\\bar K}^{1-\\beta}\\cdot L_m^\\beta \\\\\n",
    "   &=  l_m ^{\\beta} \\cdot G(\\bar K, \\bar L)\n",
    "\\end{aligned}\n",
    "$$"
   ]
  },
  {
   "cell_type": "markdown",
   "metadata": {
    "slideshow": {
     "slide_type": "slide"
    }
   },
   "source": [
    "#### Manufacturing labor demand\n",
    "\n",
    "$$MPL_m = \n",
    "\\beta \\cdot \\left ( \\frac{1}{l_m} \\right ) ^{1-\\beta} \\cdot  \\bar k^{1-\\beta} = w$$\n"
   ]
  },
  {
   "cell_type": "markdown",
   "metadata": {
    "slideshow": {
     "slide_type": "slide"
    }
   },
   "source": [
    "#### Value average product of labor in unenclosed agriculture\n",
    "\n",
    "$$\n",
    "\\begin{aligned}\n",
    "APL_u &= \\frac{F(t_u, l_u)}{l_e} \\cdot \\frac{F(\\bar T, \\bar L)}{\\bar L} \\\\\n",
    "   &=  \\left ( \\frac{1-t_e}{(1-l_m)-l_e} \\right ) ^{1-\\alpha} \\cdot  \\bar t^{1-\\alpha}\n",
    "\\end{aligned}\n",
    "$$"
   ]
  },
  {
   "cell_type": "markdown",
   "metadata": {
    "slideshow": {
     "slide_type": "fragment"
    }
   },
   "source": [
    "$$ MPL_m = w = MPL_e = APL_u>MPL_{u}$$"
   ]
  },
  {
   "cell_type": "markdown",
   "metadata": {
    "slideshow": {
     "slide_type": "fragment"
    }
   },
   "source": [
    "$$\n",
    "l_e^*(t_e) = \\frac{\\Lambda t_e }{(1-t_e+\\Lambda t_e)} \\cdot (1-l_m)  \n",
    "$$"
   ]
  }
 ],
 "metadata": {
  "celltoolbar": "Slideshow",
  "kernelspec": {
   "display_name": "Python 3",
   "language": "python",
   "name": "python3"
  },
  "language_info": {
   "codemirror_mode": {
    "name": "ipython",
    "version": 3
   },
   "file_extension": ".py",
   "mimetype": "text/x-python",
   "name": "python",
   "nbconvert_exporter": "python",
   "pygments_lexer": "ipython3",
   "version": "3.7.3"
  },
  "varInspector": {
   "cols": {
    "lenName": 16,
    "lenType": 16,
    "lenVar": 40
   },
   "kernels_config": {
    "python": {
     "delete_cmd_postfix": "",
     "delete_cmd_prefix": "del ",
     "library": "var_list.py",
     "varRefreshCmd": "print(var_dic_list())"
    },
    "r": {
     "delete_cmd_postfix": ") ",
     "delete_cmd_prefix": "rm(",
     "library": "var_list.r",
     "varRefreshCmd": "cat(var_dic_list()) "
    }
   },
   "types_to_exclude": [
    "module",
    "function",
    "builtin_function_or_method",
    "instance",
    "_Feature"
   ],
   "window_display": false
  },
  "widgets": {
   "application/vnd.jupyter.widget-state+json": {
    "state": {},
    "version_major": 2,
    "version_minor": 0
   }
  }
 },
 "nbformat": 4,
 "nbformat_minor": 4
}
